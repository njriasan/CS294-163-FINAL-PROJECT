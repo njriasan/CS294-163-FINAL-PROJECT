{
 "cells": [
  {
   "cell_type": "code",
   "execution_count": null,
   "metadata": {},
   "outputs": [],
   "source": [
    "from scipy.stats import gamma, multivariate_normal\n",
    "from random import sample\n",
    "import numpy\n",
    "\n",
    "from matplotlib import pyplot as plot\n",
    "from tqdm.notebook import tqdm\n",
    "from itertools import product\n",
    "\n",
    "%matplotlib inline"
   ]
  },
  {
   "cell_type": "code",
   "execution_count": null,
   "metadata": {},
   "outputs": [],
   "source": [
    "class grid_world():\n",
    "    def __init__(self, length, epochs):\n",
    "        self.spaces = numpy.array(list( product( range(length), repeat = 2) ))\n",
    "        self.epochs = epochs\n",
    "        \n",
    "    def generate_densities(self, users):        \n",
    "        centers = numpy.random.randint(0, len(self.spaces), size = users)\n",
    "        centers = self.spaces[ centers ]\n",
    "        \n",
    "        distances = numpy.repeat(self.spaces[:, :, None], users, axis = 2) - centers.T\n",
    "        distances = ( numpy.sqrt( numpy.sum( distances ** 2, axis = 1) ) + 1 ) ** 3\n",
    "        \n",
    "        initial = ( numpy.random.uniform(0, 1, size = distances.shape) / distances )      \n",
    "        initial = numpy.round( initial / numpy.sum( initial, axis = 0 ), decimals = 3 )\n",
    "        \n",
    "        return (initial / numpy.sum( initial, axis = 0 )).T"
   ]
  },
  {
   "cell_type": "code",
   "execution_count": null,
   "metadata": {},
   "outputs": [],
   "source": [
    "class user():\n",
    "    def __init__(self, world, density):\n",
    "        self.world = world\n",
    "        self.location_density = density\n",
    "        self.location_history = self.sample(size = world.epochs )\n",
    "        \n",
    "    def sample(self, size = 1):\n",
    "        indices = numpy.random.choice( len(self.world.spaces), p = self.location_density, size = size )\n",
    "        return self.world.spaces[indices]"
   ]
  },
  {
   "cell_type": "code",
   "execution_count": null,
   "metadata": {},
   "outputs": [],
   "source": [
    "# Prior: Could be anything\n",
    "\n",
    "def movement_pdf(distances):\n",
    "    distances = numpy.sqrt( numpy.sum( distances ** 2, axis = 1) )\n",
    "    non_normalized = 0.5 / ((distances + 1) ** 3)\n",
    "    return non_normalized"
   ]
  },
  {
   "cell_type": "code",
   "execution_count": null,
   "metadata": {},
   "outputs": [],
   "source": [
    "class cloaking():\n",
    "    def __init__(self, epsilon):\n",
    "        self.side_length = round( ((12 / epsilon) + 1) ** 0.25 )\n",
    "        \n",
    "    def noise(self, locations):\n",
    "        locations = locations // self.side_length\n",
    "        return ( locations * self.side_length ) + numpy.array([ self.side_length / 2, self.side_length / 2 ])\n",
    "    \n",
    "    def pdf(self, distances):\n",
    "        indicators = numpy.all( abs(distances) < self.side_length, axis = 1 )\n",
    "        return indicators / (self.side_length ** 2)"
   ]
  },
  {
   "cell_type": "code",
   "execution_count": null,
   "metadata": {},
   "outputs": [],
   "source": [
    "class geo_indistinguishable():\n",
    "    def __init__(self, epsilon):\n",
    "        self.epsilon = epsilon\n",
    "        \n",
    "    def noise(self, locations):\n",
    "        return locations + self.sample_noise( locations.shape[0:2] )\n",
    "    \n",
    "    def sample_noise(self, size):\n",
    "        theta = numpy.random.uniform(0, 2 * numpy.pi, size = size)\n",
    "        r = gamma.ppf( numpy.random.uniform(0, 1, size = size), 2, scale = 1 / self.epsilon )        \n",
    "        \n",
    "        x, y = r * numpy.cos(theta), r * numpy.sin(theta)\n",
    "        return numpy.stack([x, y], axis = 2)\n",
    "    \n",
    "    def pdf(self, distances):\n",
    "        distances = (- self.epsilon) * numpy.sqrt( numpy.sum( distances ** 2, axis = 1) )\n",
    "        return ((self.epsilon ** 2) / (2 * numpy.pi)) * numpy.exp( distances )"
   ]
  },
  {
   "cell_type": "code",
   "execution_count": null,
   "metadata": {},
   "outputs": [],
   "source": [
    "class gaussian():\n",
    "    def __init__(self, epsilon):\n",
    "        self.random_variable = multivariate_normal(mean = [0, 0], cov = numpy.eye(2) / epsilon)\n",
    "        \n",
    "    def noise(self, locations):\n",
    "        return locations + self.random_variable.rvs( size = locations.shape[:-1] )\n",
    "    \n",
    "    def pdf(self, distances):\n",
    "        return numpy.round( self.random_variable.pdf( distances ), decimals = 10 )"
   ]
  },
  {
   "cell_type": "code",
   "execution_count": null,
   "metadata": {},
   "outputs": [],
   "source": [
    "privacy_schemes = {\n",
    "    \"Gaussian\": gaussian,\n",
    "    \"Geo-Indistinguishability\": geo_indistinguishable,\n",
    "    \"Cloaking\": cloaking\n",
    "}"
   ]
  },
  {
   "cell_type": "code",
   "execution_count": null,
   "metadata": {},
   "outputs": [],
   "source": [
    "TRIALS = 10\n",
    "RADIUS = 10     # radius in kilometers"
   ]
  },
  {
   "cell_type": "code",
   "execution_count": null,
   "metadata": {},
   "outputs": [],
   "source": [
    "class server():\n",
    "    def __init__(self, world, users, scheme):\n",
    "        self.world, self.users, self.scheme = world, users, scheme\n",
    "        \n",
    "        self.locations  = numpy.array([ user.location_history for user in self.users ])\n",
    "        self.heartbeats = self.scheme.noise( self.locations )\n",
    "        # self.heartbeats[ user, epoch, coordinate ]\n",
    "        \n",
    "    def true_consensus(self, user, epoch):\n",
    "        center = self.locations[user, epoch, :]\n",
    "        \n",
    "        timestamp = self.locations[:, epoch, :]\n",
    "        distances = numpy.sqrt( numpy.sum(timestamp ** 2, axis = 1) ).astype(int)\n",
    "        return set([ i for i in range(len(distances)) if distances[i] < RADIUS ])\n",
    "        \n",
    "    def private_consensus(self, user, epoch):\n",
    "        center = self.heartbeats[user, epoch, :]\n",
    "        \n",
    "        timestamp = self.heartbeats[:, epoch, :]\n",
    "        distances = numpy.sqrt( numpy.sum(timestamp ** 2, axis = 1) ).astype(int)\n",
    "        return set([ i for i in range(len(distances)) if distances[i] < RADIUS ])\n",
    "    \n",
    "    def accuracy(self):\n",
    "        instances = product( range(len(self.users)), range(self.world.epochs) )\n",
    "        overlap, instances = 0, sample( list(instances), TRIALS )\n",
    "\n",
    "        for user, epoch in instances:\n",
    "            actual  = self.true_consensus(user, epoch)\n",
    "            private = self.private_consensus(user, epoch)\n",
    "            \n",
    "            results = len(actual.intersection( private )) / (len(actual.union( private )) + 1)            \n",
    "            overlap = overlap + results\n",
    "        \n",
    "        return overlap / TRIALS"
   ]
  },
  {
   "cell_type": "code",
   "execution_count": null,
   "metadata": {},
   "outputs": [],
   "source": [
    "class semi_honest(server):\n",
    "    def inference(self, user, latest, prior):\n",
    "        conditional_noise  = self.scheme.pdf( self.heartbeats[user, latest, :] - self.world.spaces )\n",
    "        return prior + conditional_noise\n",
    "    \n",
    "    def timeseries_inference(self, user):\n",
    "        initial = numpy.zeros(( len(self.world.spaces), ))\n",
    "        estimates = [ initial ]\n",
    "        \n",
    "        for i in range(self.world.epochs):\n",
    "            estimates.append( self.inference(user, i, estimates[i]) )\n",
    "            center = numpy.mean( self.heartbeats[user, :i + 1, :], axis = 0 )\n",
    "            estimates[i] = movement_pdf( self.world.spaces - center ) * estimates[i]\n",
    "            \n",
    "        estimates = numpy.array(estimates) / ( numpy.sum(estimates, axis = 1)[:, None] + (0.1 ** 11) )\n",
    "        estimates = numpy.round( estimates[:-1], decimals = 10 )\n",
    "        return estimates\n",
    "    \n",
    "    def bhattacharyya(self, estimate, true):\n",
    "        return numpy.sum(numpy.sqrt(estimate * true), axis = 1)\n",
    "        \n",
    "    def average_predictive_power(self):\n",
    "        predictive_power = numpy.zeros(( self.world.epochs, ))\n",
    "        \n",
    "        for user in tqdm(sample( range(len(self.users)), TRIALS ), desc = \"Trials\"):\n",
    "            predicted = self.timeseries_inference(user)\n",
    "            predictive_power = predictive_power + self.bhattacharyya(predicted, self.users[user].location_density)\n",
    "        \n",
    "        predictive_power = predictive_power / TRIALS\n",
    "        return predictive_power"
   ]
  },
  {
   "cell_type": "code",
   "execution_count": null,
   "metadata": {},
   "outputs": [],
   "source": [
    "numpy.random.seed(12345)"
   ]
  },
  {
   "cell_type": "code",
   "execution_count": null,
   "metadata": {},
   "outputs": [],
   "source": [
    "bay_area = grid_world(134, 700)\n",
    "# 18000 (~ 134^2) km^2, two weeks (~ 700 heartbeat messages)\n",
    "\n",
    "population = 7000\n",
    "# 1 per 1,000 inhabitants\n",
    "\n",
    "movement = bay_area.generate_densities(population)\n",
    "go_bears = numpy.array([ user(bay_area, movement[i]) for i in tqdm(range( population )) ])"
   ]
  },
  {
   "cell_type": "code",
   "execution_count": null,
   "metadata": {},
   "outputs": [],
   "source": [
    "# TEST ACCURACY:\n",
    "def plot_accuracy(scheme, epsilon):\n",
    "    USGS = semi_honest( bay_area, go_bears, scheme(epsilon) )\n",
    "    return USGS.accuracy()\n",
    "\n",
    "exogenous  = numpy.arange(0.02, 1.00, 0.01)\n",
    "for name, scheme in tqdm( privacy_schemes.items() ):\n",
    "    endogenous = [ plot_accuracy(scheme, epsilon) for epsilon in tqdm(exogenous, desc = \"Epsilon\") ]\n",
    "    plot.plot(exogenous, endogenous, label = name)\n",
    "\n",
    "plot.legend()\n",
    "plot.show()"
   ]
  },
  {
   "cell_type": "code",
   "execution_count": null,
   "metadata": {},
   "outputs": [],
   "source": [
    "# TEST PRIVACY\n",
    "exogenous = range(bay_area.epochs)\n",
    "\n",
    "for name, scheme in tqdm( privacy_schemes.items() ):    \n",
    "    USGS = semi_honest( bay_area, go_bears, scheme(0.02) )\n",
    "    endogenous = USGS.average_predictive_power()\n",
    "    \n",
    "    plot.plot(exogenous, endogenous, label = name)\n",
    "\n",
    "plot.legend()\n",
    "plot.show()"
   ]
  },
  {
   "cell_type": "code",
   "execution_count": null,
   "metadata": {},
   "outputs": [],
   "source": [
    "USGS = semi_honest( bay_area, go_bears, geo_indistinguishable(0.02) )\n",
    "\n",
    "plot.scatter( * zip(* bay_area.spaces), s = USGS.users[0].location_density * 100 )\n",
    "plot.scatter( * zip(* bay_area.spaces), s = USGS.timeseries_inference(0)[-1] * 100 )\n",
    "plot.axis(\"equal\")\n",
    "plot.show()"
   ]
  },
  {
   "cell_type": "code",
   "execution_count": null,
   "metadata": {},
   "outputs": [],
   "source": [
    "USGS = semi_honest( bay_area, go_bears, gaussian(0.02) )\n",
    "\n",
    "plot.scatter( * zip(* bay_area.spaces), s = USGS.users[0].location_density * 100 )\n",
    "plot.scatter( * zip(* bay_area.spaces), s = USGS.timeseries_inference(0)[-1] * 100 )\n",
    "\n",
    "plot.axis(\"equal\")\n",
    "plot.show()"
   ]
  },
  {
   "cell_type": "code",
   "execution_count": null,
   "metadata": {},
   "outputs": [],
   "source": [
    "USGS = semi_honest( bay_area, go_bears, cloaking(0.02) )\n",
    "\n",
    "plot.scatter( * zip(* bay_area.spaces), s = USGS.users[0].location_density * 100 )\n",
    "plot.scatter( * zip(* bay_area.spaces), s = USGS.timeseries_inference(0)[-1] * 100 )\n",
    "\n",
    "plot.axis(\"equal\")\n",
    "plot.show()"
   ]
  },
  {
   "cell_type": "code",
   "execution_count": null,
   "metadata": {},
   "outputs": [],
   "source": []
  }
 ],
 "metadata": {
  "kernelspec": {
   "display_name": "Python 3",
   "language": "python",
   "name": "python3"
  },
  "language_info": {
   "codemirror_mode": {
    "name": "ipython",
    "version": 3
   },
   "file_extension": ".py",
   "mimetype": "text/x-python",
   "name": "python",
   "nbconvert_exporter": "python",
   "pygments_lexer": "ipython3",
   "version": "3.6.4"
  }
 },
 "nbformat": 4,
 "nbformat_minor": 2
}
