{
 "cells": [
  {
   "cell_type": "code",
   "execution_count": 1,
   "metadata": {},
   "outputs": [],
   "source": [
    "from matplotlib import pyplot as plot\n",
    "from tqdm.notebook import tqdm\n",
    "from itertools import product\n",
    "\n",
    "from scipy.stats import gamma, norm, laplace\n",
    "from random import sample\n",
    "import numpy, ray, gc\n",
    "\n",
    "%matplotlib inline"
   ]
  },
  {
   "cell_type": "code",
   "execution_count": 2,
   "metadata": {},
   "outputs": [
    {
     "name": "stderr",
     "output_type": "stream",
     "text": [
      "2019-12-06 21:03:22,252\tWARNING worker.py:1268 -- WARNING: Not updating worker name since `setproctitle` is not installed. Install this with `pip install setproctitle` (or ray[debug]) to enable monitoring of worker processes.\n",
      "2019-12-06 21:03:22,260\tINFO resource_spec.py:205 -- Starting Ray with 0.24 GiB memory available for workers and up to 0.14 GiB for objects. You can adjust these settings with ray.init(memory=<bytes>, object_store_memory=<bytes>).\n"
     ]
    },
    {
     "data": {
      "text/plain": [
       "{'node_ip_address': '192.168.42.2',\n",
       " 'redis_address': '192.168.42.2:17796',\n",
       " 'object_store_address': '/tmp/ray/session_2019-12-06_21-03-22_255498_22322/sockets/plasma_store',\n",
       " 'raylet_socket_name': '/tmp/ray/session_2019-12-06_21-03-22_255498_22322/sockets/raylet',\n",
       " 'webui_url': None,\n",
       " 'session_dir': '/tmp/ray/session_2019-12-06_21-03-22_255498_22322'}"
      ]
     },
     "execution_count": 2,
     "metadata": {},
     "output_type": "execute_result"
    }
   ],
   "source": [
    "ray.init()"
   ]
  },
  {
   "cell_type": "code",
   "execution_count": 40,
   "metadata": {},
   "outputs": [],
   "source": [
    "# Existing differentially-private schemes\n",
    "def gaussian_noise(location, epsilon):\n",
    "    return location + numpy.random.normal(loc = [0, 0], scale = 1 / epsilon )\n",
    "\n",
    "def gaussian_conditional(location, conditional, epsilon):\n",
    "    difference = numpy.array(location) - numpy.array(conditional)\n",
    "    return numpy.prod( norm.pdf(difference, scale = 1 / epsilon) )\n",
    "\n",
    "def laplacian_noise(location, epsilon):\n",
    "    return location + numpy.random.laplace(loc = [0, 0], scale = 1 / epsilon )\n",
    "\n",
    "def laplacian_conditional(location, conditional, epsilon):\n",
    "    difference = numpy.array(location) - numpy.array(conditional)\n",
    "    return numpy.prod( laplace.pdf(difference, scale = 1 / epsilon) )\n",
    "\n",
    "def geo_noise(location, epsilon):\n",
    "    theta, r = numpy.random.uniform(0, 2 * numpy.pi), gamma.ppf( numpy.random.uniform(0, 1), 2, scale = (1 / epsilon) )\n",
    "    x, y = r * numpy.cos(theta), r * numpy.sin(theta)\n",
    "    return location + numpy.array([x, y])\n",
    "\n",
    "def geo_conditional(location, conditional, epsilon):\n",
    "    x, y = numpy.array(location) - numpy.array(conditional)\n",
    "    r = numpy.sqrt(x ** 2 + y ** 2)\n",
    "    return gamma.pdf(r, 2, scale = 1 / epsilon) * (0.5 / numpy.pi)\n",
    "\n",
    "# An extension of k-anonymity\n",
    "def cloaking(location, epsilon):\n",
    "    x, y = location\n",
    "    return ( 5 * (x // 5), 5 * (y // 5) )\n",
    "\n",
    "def cloaking_conditional(location, conditional, epsilon):\n",
    "    return (1 / 25) if cloaking(conditional, epsilon) == location else 0"
   ]
  },
  {
   "cell_type": "code",
   "execution_count": 41,
   "metadata": {},
   "outputs": [],
   "source": [
    "privacy_schemes = {\n",
    "    \"Gaussian\": gaussian_noise,\n",
    "    \"Laplacian\": laplacian_noise,\n",
    "    \n",
    "    \"Geo-Indistinguishability\": geo_noise,\n",
    "    \"Cloaking\": cloaking\n",
    "}\n",
    "\n",
    "privacy_conditionals = {\n",
    "    \"Gaussian\": gaussian_conditional,\n",
    "    \"Laplacian\": laplacian_conditional,\n",
    "    \n",
    "    \"Geo-Indistinguishability\": geo_conditional,\n",
    "    \"Cloaking\": cloaking_conditional\n",
    "}"
   ]
  },
  {
   "cell_type": "code",
   "execution_count": 32,
   "metadata": {},
   "outputs": [],
   "source": [
    "def distance(location, center):\n",
    "    x, y = location\n",
    "    a, b = center\n",
    "    return numpy.sqrt( (x - a)**2 + (y - b)**2 )\n",
    "\n",
    "def disjoint(x, y): \n",
    "    return 1 if (x < 10 and y > 10) or (x > 10 and y < 10) else 0\n",
    "\n",
    "def transpose(nested):\n",
    "    return list(zip(* nested))"
   ]
  },
  {
   "cell_type": "code",
   "execution_count": 33,
   "metadata": {},
   "outputs": [],
   "source": [
    "class user:\n",
    "    def __init__(self, server):\n",
    "        self.space = server.space\n",
    "        self.location_distr = self.centered_distribution()\n",
    "        self.location_distr = self.location_distr / numpy.sum(self.location_distr)\n",
    "        \n",
    "    def centered_distribution(self):\n",
    "        center  = self.space[ numpy.random.randint(0, len(self.space)) ]\n",
    "        initial = [ numpy.random.uniform(0, 2) / (distance(L, center) + 1) for L in self.space ]\n",
    "        return numpy.round( numpy.array( initial ) / numpy.sum( initial ), decimals = 3 )\n",
    "        \n",
    "    def sample(self, epochs):\n",
    "        index = numpy.random.choice( len(self.space), size = epochs, p = self.location_distr )\n",
    "        return [ self.space[i] for i in index ]"
   ]
  },
  {
   "cell_type": "code",
   "execution_count": 34,
   "metadata": {},
   "outputs": [],
   "source": [
    "class server:\n",
    "    def __init__(self, length = 75, count = 100, epochs = 250):\n",
    "        self.space = product(range(length), repeat = 2 )\n",
    "        self.space = list( map(tuple, self.space) )\n",
    "        \n",
    "        self.users = [ user(self) for i in tqdm(range(count)) ]\n",
    "        self.length, self.epochs = length * length, epochs\n",
    "        \n",
    "        self.samples = [ u.sample(epochs) for u in tqdm(self.users) ]\n",
    "        self.noisy_samples = {}\n",
    "        \n",
    "    def regularize_users(self, repetition):\n",
    "        self.samples = [ s * repetition for s in self.samples ]\n",
    "        self.epochs = self.epochs * repetition\n",
    "        \n",
    "    def average_difference(self, scheme):\n",
    "        difference = 0\n",
    "        for u, e in sample( list(product( range(len(self.users)), range(self.epochs) )), 1000 ):\n",
    "            center, noisy_center = self.samples[u][e], self.noisy_samples[\"Geo-Indistinguishability\"][u][e]\n",
    "            difference = difference + self.disjuctive_size(scheme, center, noisy_center, e)\n",
    "        return difference / 100\n",
    "        \n",
    "    def disjuctive_size(self, scheme, center, noisy_center, epoch):      \n",
    "        locations = zip( transpose(self.samples)[epoch], transpose(self.noisy_samples[scheme])[epoch] )        \n",
    "        disjunctive = [ disjoint( distance(x, center), distance(y, noisy_center) ) for x, y in locations ]\n",
    "        return sum(disjunctive)\n",
    "        \n",
    "    def introduce_privacy(self, epsilon):\n",
    "        self.epsilon = epsilon\n",
    "        for scheme in tqdm(privacy_schemes):\n",
    "            noise = privacy_schemes[ scheme ]\n",
    "            \n",
    "            heartbeats = [ self.noisy_user(u, noise) for u in self.samples ]            \n",
    "            self.noisy_samples[ scheme ] = heartbeats\n",
    "    \n",
    "    def noisy_user(self, user, noise):\n",
    "        return [ tuple(numpy.round( noise(location, self.epsilon) )) for location in user ]"
   ]
  },
  {
   "cell_type": "code",
   "execution_count": 35,
   "metadata": {},
   "outputs": [],
   "source": [
    "class semi_honest(server):\n",
    "    def average_predictive_power(self, scheme):\n",
    "        results = [ self.noisy_estimates(scheme, i) for i in range(len(self.samples)) ]\n",
    "        return numpy.mean( results, axis = 0 )\n",
    "    \n",
    "    def noisy_estimates(self, scheme, user):\n",
    "        user_heartbeats = self.noisy_samples[scheme][user]\n",
    "        estimates = [ numpy.array([ 1 if user_heartbeats[0] == x else 0 for x in self.space ]) ]\n",
    "\n",
    "        for i in range(1, self.epochs):\n",
    "            if user_heartbeats[i] in self.space:\n",
    "                estimates.append( self.update_MLE(estimates[-1], user_heartbeats[i], i, scheme) )\n",
    "            else:\n",
    "                estimates.append( estimates[-1] )\n",
    "\n",
    "        true = self.users[user].location_distr\n",
    "        return numpy.fromiter( map( lambda x: self.bhattacharyya(x, true), estimates ), dtype = float )\n",
    "        \n",
    "    def update_MLE(self, distribution, heartbeat, epoch, scheme):\n",
    "        conditional_probabilities = numpy.array([ privacy_conditionals[scheme](x, heartbeat, self.epsilon) for x in self.space ])\n",
    "\n",
    "        previous = distribution * epoch\n",
    "        current  = previous + conditional_probabilities\n",
    "        return current / sum(current)\n",
    "        \n",
    "    def bhattacharyya(self, estimate, true):\n",
    "        return numpy.sum(numpy.sqrt(estimate * true))"
   ]
  },
  {
   "cell_type": "code",
   "execution_count": 36,
   "metadata": {},
   "outputs": [],
   "source": [
    "def compare_scheme_accuracy(server, save = False):\n",
    "    endogenous = numpy.arange(0.025, 0.2525, 0.025)\n",
    "    _exogenous = []\n",
    "    \n",
    "    for epsilon in tqdm(endogenous):\n",
    "        server.introduce_privacy(epsilon)\n",
    "        _exogenous.append([ server.average_difference(scheme) for scheme in privacy_schemes ])\n",
    "\n",
    "    _exogenous = zip( transpose(_exogenous), privacy_schemes )\n",
    "    for exogenous, scheme in _exogenous:\n",
    "        plot.plot(endogenous, exogenous, label = scheme)\n",
    "\n",
    "    plot.legend()\n",
    "    plot.savefig(save) if save else plot.show()"
   ]
  },
  {
   "cell_type": "code",
   "execution_count": 37,
   "metadata": {},
   "outputs": [],
   "source": [
    "def evaluate_privacy(server, scheme):\n",
    "    return server.average_predictive_power(scheme), scheme\n",
    "\n",
    "def compare_scheme_privacy(server, save = False):\n",
    "    endogenous = range(server.epochs)\n",
    "    _exogenous = [ evaluate_privacy(server, scheme) for scheme in privacy_schemes ]\n",
    "    \n",
    "    for exogenous, scheme in _exogenous:\n",
    "        plot.plot(endogenous, exogenous, label = scheme)\n",
    "\n",
    "    plot.legend()\n",
    "    plot.savefig(save) if save else plot.show()"
   ]
  },
  {
   "cell_type": "code",
   "execution_count": 38,
   "metadata": {
    "scrolled": true
   },
   "outputs": [
    {
     "data": {
      "application/vnd.jupyter.widget-view+json": {
       "model_id": "552c3a9be4c84e5c9459f9b55c20541f",
       "version_major": 2,
       "version_minor": 0
      },
      "text/plain": [
       "HBox(children=(IntProgress(value=0, max=10), HTML(value='')))"
      ]
     },
     "metadata": {},
     "output_type": "display_data"
    },
    {
     "name": "stdout",
     "output_type": "stream",
     "text": [
      "\n"
     ]
    },
    {
     "data": {
      "application/vnd.jupyter.widget-view+json": {
       "model_id": "e91cf23821454b5983b79f5c8674209a",
       "version_major": 2,
       "version_minor": 0
      },
      "text/plain": [
       "HBox(children=(IntProgress(value=0, max=10), HTML(value='')))"
      ]
     },
     "metadata": {},
     "output_type": "display_data"
    },
    {
     "name": "stdout",
     "output_type": "stream",
     "text": [
      "\n"
     ]
    }
   ],
   "source": [
    "USGS = semi_honest(length = 10, count = 10, epochs = 250)\n",
    "# USGS.regularize_users(100)"
   ]
  },
  {
   "cell_type": "code",
   "execution_count": 14,
   "metadata": {
    "scrolled": true
   },
   "outputs": [
    {
     "data": {
      "application/vnd.jupyter.widget-view+json": {
       "model_id": "451ef2b677c34e3c8725d626895da6fe",
       "version_major": 2,
       "version_minor": 0
      },
      "text/plain": [
       "HBox(children=(IntProgress(value=0, max=10), HTML(value='')))"
      ]
     },
     "metadata": {},
     "output_type": "display_data"
    },
    {
     "data": {
      "application/vnd.jupyter.widget-view+json": {
       "model_id": "0871fcf8c1ff4ea3ae0c595261381117",
       "version_major": 2,
       "version_minor": 0
      },
      "text/plain": [
       "HBox(children=(IntProgress(value=0, max=4), HTML(value='')))"
      ]
     },
     "metadata": {},
     "output_type": "display_data"
    },
    {
     "name": "stdout",
     "output_type": "stream",
     "text": [
      "\n"
     ]
    },
    {
     "data": {
      "application/vnd.jupyter.widget-view+json": {
       "model_id": "72fe0a1422bc4a8c98d3dd266b615a52",
       "version_major": 2,
       "version_minor": 0
      },
      "text/plain": [
       "HBox(children=(IntProgress(value=0, max=4), HTML(value='')))"
      ]
     },
     "metadata": {},
     "output_type": "display_data"
    },
    {
     "name": "stdout",
     "output_type": "stream",
     "text": [
      "\n"
     ]
    },
    {
     "data": {
      "application/vnd.jupyter.widget-view+json": {
       "model_id": "2b68ade1460b4735802a8e9e7527067e",
       "version_major": 2,
       "version_minor": 0
      },
      "text/plain": [
       "HBox(children=(IntProgress(value=0, max=4), HTML(value='')))"
      ]
     },
     "metadata": {},
     "output_type": "display_data"
    },
    {
     "name": "stdout",
     "output_type": "stream",
     "text": [
      "\n"
     ]
    },
    {
     "data": {
      "application/vnd.jupyter.widget-view+json": {
       "model_id": "2175ef3c5a8442668a1c6f459bb7f964",
       "version_major": 2,
       "version_minor": 0
      },
      "text/plain": [
       "HBox(children=(IntProgress(value=0, max=4), HTML(value='')))"
      ]
     },
     "metadata": {},
     "output_type": "display_data"
    },
    {
     "name": "stdout",
     "output_type": "stream",
     "text": [
      "\n"
     ]
    },
    {
     "data": {
      "application/vnd.jupyter.widget-view+json": {
       "model_id": "3fbbc1e34fe04bb28210142b0459b7be",
       "version_major": 2,
       "version_minor": 0
      },
      "text/plain": [
       "HBox(children=(IntProgress(value=0, max=4), HTML(value='')))"
      ]
     },
     "metadata": {},
     "output_type": "display_data"
    },
    {
     "name": "stdout",
     "output_type": "stream",
     "text": [
      "\n"
     ]
    },
    {
     "data": {
      "application/vnd.jupyter.widget-view+json": {
       "model_id": "2ee8bf8b24c7405e840efe56d9efabe6",
       "version_major": 2,
       "version_minor": 0
      },
      "text/plain": [
       "HBox(children=(IntProgress(value=0, max=4), HTML(value='')))"
      ]
     },
     "metadata": {},
     "output_type": "display_data"
    },
    {
     "name": "stdout",
     "output_type": "stream",
     "text": [
      "\n"
     ]
    },
    {
     "data": {
      "application/vnd.jupyter.widget-view+json": {
       "model_id": "26855c4f41d1471082aef42d67de3f11",
       "version_major": 2,
       "version_minor": 0
      },
      "text/plain": [
       "HBox(children=(IntProgress(value=0, max=4), HTML(value='')))"
      ]
     },
     "metadata": {},
     "output_type": "display_data"
    },
    {
     "name": "stdout",
     "output_type": "stream",
     "text": [
      "\n"
     ]
    },
    {
     "data": {
      "application/vnd.jupyter.widget-view+json": {
       "model_id": "4118ba47fc684c199b10c0e811fe2a47",
       "version_major": 2,
       "version_minor": 0
      },
      "text/plain": [
       "HBox(children=(IntProgress(value=0, max=4), HTML(value='')))"
      ]
     },
     "metadata": {},
     "output_type": "display_data"
    },
    {
     "name": "stdout",
     "output_type": "stream",
     "text": [
      "\n"
     ]
    },
    {
     "data": {
      "application/vnd.jupyter.widget-view+json": {
       "model_id": "03b398a888604e39bf0154df6414e90e",
       "version_major": 2,
       "version_minor": 0
      },
      "text/plain": [
       "HBox(children=(IntProgress(value=0, max=4), HTML(value='')))"
      ]
     },
     "metadata": {},
     "output_type": "display_data"
    },
    {
     "name": "stdout",
     "output_type": "stream",
     "text": [
      "\n"
     ]
    },
    {
     "data": {
      "application/vnd.jupyter.widget-view+json": {
       "model_id": "60bd7d9185b54ce4807a546ce43a09a5",
       "version_major": 2,
       "version_minor": 0
      },
      "text/plain": [
       "HBox(children=(IntProgress(value=0, max=4), HTML(value='')))"
      ]
     },
     "metadata": {},
     "output_type": "display_data"
    },
    {
     "name": "stdout",
     "output_type": "stream",
     "text": [
      "\n",
      "\n"
     ]
    },
    {
     "data": {
      "image/png": "[encoded data removed]",
      "text/plain": [
       "<Figure size 432x288 with 1 Axes>"
      ]
     },
     "metadata": {
      "needs_background": "light"
     },
     "output_type": "display_data"
    }
   ],
   "source": [
    "compare_scheme_accuracy(USGS)"
   ]
  },
  {
   "cell_type": "code",
   "execution_count": 15,
   "metadata": {},
   "outputs": [
    {
     "data": {
      "text/plain": [
       "250"
      ]
     },
     "execution_count": 15,
     "metadata": {},
     "output_type": "execute_result"
    }
   ],
   "source": [
    "USGS.epochs"
   ]
  },
  {
   "cell_type": "code",
   "execution_count": 43,
   "metadata": {
    "scrolled": true
   },
   "outputs": [
    {
     "data": {
      "application/vnd.jupyter.widget-view+json": {
       "model_id": "58affbc1b0cc4155b2b31998ef3d41b8",
       "version_major": 2,
       "version_minor": 0
      },
      "text/plain": [
       "HBox(children=(IntProgress(value=0, max=4), HTML(value='')))"
      ]
     },
     "metadata": {},
     "output_type": "display_data"
    },
    {
     "name": "stdout",
     "output_type": "stream",
     "text": [
      "\n"
     ]
    },
    {
     "data": {
      "image/png": "[encoded data removed]",
      "text/plain": [
       "<Figure size 432x288 with 1 Axes>"
      ]
     },
     "metadata": {
      "needs_background": "light"
     },
     "output_type": "display_data"
    }
   ],
   "source": [
    "USGS.introduce_privacy(0.025)\n",
    "compare_scheme_privacy(USGS)"
   ]
  },
  {
   "cell_type": "code",
   "execution_count": null,
   "metadata": {},
   "outputs": [],
   "source": []
  }
 ],
 "metadata": {
  "kernelspec": {
   "display_name": "Python 3",
   "language": "python",
   "name": "python3"
  },
  "language_info": {
   "codemirror_mode": {
    "name": "ipython",
    "version": 3
   },
   "file_extension": ".py",
   "mimetype": "text/x-python",
   "name": "python",
   "nbconvert_exporter": "python",
   "pygments_lexer": "ipython3",
   "version": "3.6.4"
  }
 },
 "nbformat": 4,
 "nbformat_minor": 2
}
