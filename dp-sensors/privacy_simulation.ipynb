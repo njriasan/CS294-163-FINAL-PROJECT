{
 "cells": [
  {
   "cell_type": "code",
   "execution_count": 1,
   "metadata": {},
   "outputs": [],
   "source": [
    "from scipy.stats import gamma, multivariate_normal\n",
    "from random import sample\n",
    "import numpy\n",
    "\n",
    "from matplotlib import pyplot as plot\n",
    "from tqdm.notebook import tqdm\n",
    "from itertools import product\n",
    "\n",
    "%matplotlib inline"
   ]
  },
  {
   "cell_type": "code",
   "execution_count": 140,
   "metadata": {},
   "outputs": [],
   "source": [
    "def distance(location, center):\n",
    "    return numpy.sqrt( (location[0] - center[0]) ** 2 + (location[1] - center[1]) ** 2 )\n",
    "\n",
    "class grid_world():\n",
    "    def __init__(self, length, epochs):\n",
    "        self.spaces = numpy.array(list( product( range(length), repeat = 2) ))\n",
    "        self.epochs = epochs"
   ]
  },
  {
   "cell_type": "code",
   "execution_count": 141,
   "metadata": {},
   "outputs": [],
   "source": [
    "class user():\n",
    "    def __init__(self, world):\n",
    "        self.world = world\n",
    "        self.location_density = self.centered_density()        \n",
    "        self.location_history = self.sample(size = world.epochs )\n",
    "    \n",
    "    def centered_density(self):\n",
    "        inertia = numpy.random.uniform(1, 3)\n",
    "        center  = self.world.spaces[ numpy.random.randint(0, len(self.world.spaces)) ]\n",
    "\n",
    "        initial = [ numpy.random.uniform(0, 2) / (distance(L, center) + 1) for L in self.world.spaces ]\n",
    "        initial = numpy.array(initial) ** inertia\n",
    "        initial = numpy.round( initial / numpy.sum( initial ), decimals = 3)\n",
    "        \n",
    "        return initial / numpy.sum( initial )\n",
    "    \n",
    "    def sample(self, size = 1):\n",
    "        indices = numpy.random.choice( len(self.world.spaces), p = self.location_density, size = size )\n",
    "        return self.world.spaces[indices]"
   ]
  },
  {
   "cell_type": "code",
   "execution_count": 222,
   "metadata": {},
   "outputs": [],
   "source": [
    "class cloaking():\n",
    "    def __init__(self, epsilon):\n",
    "        self.side_length = ((12 / epsilon) + 1) ** 0.25\n",
    "        \n",
    "    def noise(self, locations):\n",
    "        locations = locations // self.side_length\n",
    "        return locations * self.side_length\n",
    "    \n",
    "    def pdf(self, locations):\n",
    "        indicators = numpy.all( locations < self.side_length, axis = 1 )\n",
    "        return indicators / (self.side_length ** 2)"
   ]
  },
  {
   "cell_type": "code",
   "execution_count": 207,
   "metadata": {},
   "outputs": [],
   "source": [
    "class geo_indistinguishable():\n",
    "    def __init__(self, epsilon):\n",
    "        self.variance = 1 / epsilon\n",
    "        \n",
    "    def noise(self, locations):\n",
    "        return locations + self.sample_noise( locations.shape[0:2] )\n",
    "    \n",
    "    def sample_noise(self, size):\n",
    "        theta = numpy.random.uniform(0, 2 * numpy.pi, size = size)\n",
    "        r = gamma.ppf( numpy.random.uniform(0, 1, size = size), 2, scale = self.variance )        \n",
    "        \n",
    "        x, y = r * numpy.cos(theta), r * numpy.sin(theta)\n",
    "        return numpy.stack([x, y], axis = 2)\n",
    "    \n",
    "    def pdf(self, locations):\n",
    "        x, y = locations.T\n",
    "        \n",
    "        r = numpy.sqrt( x ** 2 + y ** 2)\n",
    "        return gamma.pdf(r, 2, scale = self.variance) * (0.5 / numpy.pi)"
   ]
  },
  {
   "cell_type": "code",
   "execution_count": 200,
   "metadata": {},
   "outputs": [],
   "source": [
    "class gaussian():\n",
    "    def __init__(self, epsilon):\n",
    "        self.random_variable = multivariate_normal(mean = [0, 0], cov = numpy.eye(2) / epsilon)\n",
    "        \n",
    "    def noise(self, locations):\n",
    "        return locations + self.random_variable.rvs( size = locations.shape[:-1] )\n",
    "    \n",
    "    def pdf(self, locations):\n",
    "        return self.random_variable.pdf( locations )"
   ]
  },
  {
   "cell_type": "code",
   "execution_count": 201,
   "metadata": {},
   "outputs": [],
   "source": [
    "privacy_schemes = {\n",
    "    \"Gaussian\": gaussian,\n",
    "    \"Geo-Indistinguishability\": geo_indistinguishable,\n",
    "    \"Cloaking\": cloaking\n",
    "}"
   ]
  },
  {
   "cell_type": "code",
   "execution_count": 230,
   "metadata": {},
   "outputs": [],
   "source": [
    "TRIALS = 1000\n",
    "RADIUS = 10     # radius in kilometers"
   ]
  },
  {
   "cell_type": "code",
   "execution_count": 203,
   "metadata": {},
   "outputs": [],
   "source": [
    "class server():\n",
    "    def __init__(self, world, users, scheme):\n",
    "        self.world, self.users, self.scheme = world, users, scheme\n",
    "        \n",
    "        self.locations  = numpy.array([ user.location_history for user in self.users ])\n",
    "        self.heartbeats = self.scheme.noise( self.locations )\n",
    "        # self.heartbeats[ user, epoch, coordinate ]\n",
    "        \n",
    "    def true_consensus(self, user, epoch):\n",
    "        center = self.locations[user, epoch, :]\n",
    "        \n",
    "        timestamp = self.locations[:, epoch, :]\n",
    "        distances = numpy.sqrt( numpy.sum(timestamp * timestamp, axis = 1) ).astype(int)\n",
    "        return set([ i for i in range(len(distances)) if distances[i] < RADIUS ])\n",
    "        \n",
    "    def private_consensus(self, user, epoch):\n",
    "        center = self.heartbeats[user, epoch, :]\n",
    "        \n",
    "        timestamp = self.heartbeats[:, epoch, :]\n",
    "        distances = numpy.sqrt( numpy.sum(timestamp * timestamp, axis = 1) ).astype(int)\n",
    "        return set([ i for i in range(len(distances)) if distances[i] < RADIUS ])\n",
    "    \n",
    "    def accuracy(self):\n",
    "        instances = product( range(len(self.users)), range(self.world.epochs) )\n",
    "        overlap, instances = 0, sample( list(instances), TRIALS )\n",
    "\n",
    "        for user, epoch in instances:\n",
    "            actual  = self.true_consensus(user, epoch)\n",
    "            private = self.private_consensus(user, epoch)\n",
    "            \n",
    "            results = len(actual.intersection( private )) / (len(actual.union( private )) + 1)            \n",
    "            overlap = overlap + results\n",
    "        \n",
    "        return overlap / TRIALS"
   ]
  },
  {
   "cell_type": "code",
   "execution_count": 204,
   "metadata": {},
   "outputs": [],
   "source": [
    "class semi_honest(server):\n",
    "    def inference(self, user, latest, previous):\n",
    "        latest = self.heartbeats[user, latest, :]\n",
    "        return previous + numpy.round( self.scheme.pdf( latest - self.world.spaces ), decimals = 10 )\n",
    "    \n",
    "    def timeseries_inference(self, user):\n",
    "        initial = numpy.zeros(( len(self.world.spaces), ))\n",
    "        estimates = [ initial ]\n",
    "        \n",
    "        for i in range(self.world.epochs):\n",
    "            estimates.append( self.inference(user, i, estimates[i]) )\n",
    "            \n",
    "        estimates = estimates / numpy.sum(estimates, axis = 1)[:, None]\n",
    "        return numpy.array( estimates )\n",
    "    \n",
    "    def bhattacharyya(self, estimate, true):\n",
    "        return numpy.sum(numpy.sqrt(estimate * true), axis = 1)\n",
    "    \n",
    "    def average_predictive_power(self):\n",
    "        predictive_power = numpy.ones(( self.world.epochs + 1, ))\n",
    "        \n",
    "        for user in tqdm(sample( range(len(self.users)), TRIALS ), desc = \"Trials\"):\n",
    "            predicted = self.timeseries_inference(user)\n",
    "            predictive_power = predictive_power + self.bhattacharyya(predicted, self.users[user].location_density)\n",
    "        \n",
    "        predictive_power = predictive_power / TRIALS\n",
    "        return predictive_power"
   ]
  },
  {
   "cell_type": "code",
   "execution_count": 228,
   "metadata": {},
   "outputs": [
    {
     "data": {
      "application/vnd.jupyter.widget-view+json": {
       "model_id": "60af4f47b97d46f8a9d29cbbbfee4837",
       "version_major": 2,
       "version_minor": 0
      },
      "text/plain": [
       "HBox(children=(IntProgress(value=0, max=70), HTML(value='')))"
      ]
     },
     "metadata": {},
     "output_type": "display_data"
    },
    {
     "name": "stdout",
     "output_type": "stream",
     "text": [
      "\n"
     ]
    }
   ],
   "source": [
    "bay_area = grid_world(13, 335) # 18000 (~ 134^2) km^2, one week\n",
    "go_bears = numpy.array([ user(bay_area) for i in tqdm(range( 70 )) ]) # 7000 thousand inhabitants"
   ]
  },
  {
   "cell_type": "code",
   "execution_count": 209,
   "metadata": {},
   "outputs": [
    {
     "data": {
      "application/vnd.jupyter.widget-view+json": {
       "model_id": "ab65d463caba472890d0c6a28313d3a0",
       "version_major": 2,
       "version_minor": 0
      },
      "text/plain": [
       "HBox(children=(IntProgress(value=0, max=20), HTML(value='')))"
      ]
     },
     "metadata": {},
     "output_type": "display_data"
    },
    {
     "name": "stdout",
     "output_type": "stream",
     "text": [
      "\n"
     ]
    },
    {
     "data": {
      "application/vnd.jupyter.widget-view+json": {
       "model_id": "49a6bf41fbef4d9f817f4c74bc78e29a",
       "version_major": 2,
       "version_minor": 0
      },
      "text/plain": [
       "HBox(children=(IntProgress(value=0, max=20), HTML(value='')))"
      ]
     },
     "metadata": {},
     "output_type": "display_data"
    },
    {
     "name": "stdout",
     "output_type": "stream",
     "text": [
      "(7, 335) (7, 335) (7, 335) (7, 335)\n",
      "(7, 335) (7, 335) (7, 335) (7, 335)\n",
      "(7, 335) (7, 335) (7, 335) (7, 335)\n",
      "(7, 335) (7, 335) (7, 335) (7, 335)\n",
      "(7, 335) (7, 335) (7, 335) (7, 335)\n",
      "(7, 335) (7, 335) (7, 335) (7, 335)\n",
      "(7, 335) (7, 335) (7, 335) (7, 335)\n",
      "(7, 335) (7, 335) (7, 335) (7, 335)\n",
      "(7, 335) (7, 335) (7, 335) (7, 335)\n",
      "(7, 335) (7, 335) (7, 335) (7, 335)\n",
      "(7, 335) (7, 335) (7, 335) (7, 335)\n",
      "(7, 335) (7, 335) (7, 335) (7, 335)\n",
      "(7, 335) (7, 335) (7, 335) (7, 335)\n",
      "(7, 335) (7, 335) (7, 335) (7, 335)\n",
      "(7, 335) (7, 335) (7, 335) (7, 335)\n",
      "(7, 335) (7, 335) (7, 335) (7, 335)\n",
      "(7, 335) (7, 335) (7, 335) (7, 335)\n",
      "(7, 335) (7, 335) (7, 335) (7, 335)\n",
      "(7, 335) (7, 335) (7, 335) (7, 335)\n",
      "(7, 335) (7, 335) (7, 335) (7, 335)\n",
      "\n"
     ]
    },
    {
     "data": {
      "application/vnd.jupyter.widget-view+json": {
       "model_id": "d4dd2caa84f341d4adb852b04be861d3",
       "version_major": 2,
       "version_minor": 0
      },
      "text/plain": [
       "HBox(children=(IntProgress(value=0, max=20), HTML(value='')))"
      ]
     },
     "metadata": {},
     "output_type": "display_data"
    },
    {
     "name": "stdout",
     "output_type": "stream",
     "text": [
      "\n"
     ]
    },
    {
     "data": {
      "image/png": "[encoded data removed]",
      "text/plain": [
       "<Figure size 432x288 with 1 Axes>"
      ]
     },
     "metadata": {
      "needs_background": "light"
     },
     "output_type": "display_data"
    }
   ],
   "source": [
    "# TEST ACCURACY:\n",
    "exogenous  = numpy.arange(0.02, 0.22, 0.01)\n",
    "\n",
    "for name, scheme in privacy_schemes.items():\n",
    "    endogenous = []\n",
    "    \n",
    "    for epsilon in tqdm(exogenous):\n",
    "        USGS = semi_honest( bay_area, go_bears, scheme(epsilon) )\n",
    "        endogenous.append( USGS.accuracy() )\n",
    "    \n",
    "    plot.plot(exogenous, endogenous, label = name)\n",
    "\n",
    "plot.legend()\n",
    "plot.show()"
   ]
  },
  {
   "cell_type": "code",
   "execution_count": 231,
   "metadata": {},
   "outputs": [
    {
     "data": {
      "application/vnd.jupyter.widget-view+json": {
       "model_id": "17a67e850d0f4bb0b9c4fa6f6766e00c",
       "version_major": 2,
       "version_minor": 0
      },
      "text/plain": [
       "HBox(children=(IntProgress(value=0, description='Trials', max=10, style=ProgressStyle(description_width='initi…"
      ]
     },
     "metadata": {},
     "output_type": "display_data"
    },
    {
     "name": "stderr",
     "output_type": "stream",
     "text": [
      "/Library/Frameworks/Python.framework/Versions/3.6/lib/python3.6/site-packages/ipykernel_launcher.py:13: RuntimeWarning: invalid value encountered in true_divide\n",
      "  del sys.path[0]\n"
     ]
    },
    {
     "name": "stdout",
     "output_type": "stream",
     "text": [
      "\n",
      "(70, 335) (70, 335) (70, 335) (70, 335)\n"
     ]
    },
    {
     "data": {
      "application/vnd.jupyter.widget-view+json": {
       "model_id": "2dff3c863f3d4a69806187fa5a77c7ec",
       "version_major": 2,
       "version_minor": 0
      },
      "text/plain": [
       "HBox(children=(IntProgress(value=0, description='Trials', max=10, style=ProgressStyle(description_width='initi…"
      ]
     },
     "metadata": {},
     "output_type": "display_data"
    },
    {
     "name": "stdout",
     "output_type": "stream",
     "text": [
      "\n"
     ]
    },
    {
     "data": {
      "application/vnd.jupyter.widget-view+json": {
       "model_id": "336610cc55f547caaf60bbd77e3e8767",
       "version_major": 2,
       "version_minor": 0
      },
      "text/plain": [
       "HBox(children=(IntProgress(value=0, description='Trials', max=10, style=ProgressStyle(description_width='initi…"
      ]
     },
     "metadata": {},
     "output_type": "display_data"
    },
    {
     "name": "stdout",
     "output_type": "stream",
     "text": [
      "\n"
     ]
    },
    {
     "data": {
      "image/png": "[encoded data removed]",
      "text/plain": [
       "<Figure size 432x288 with 1 Axes>"
      ]
     },
     "metadata": {
      "needs_background": "light"
     },
     "output_type": "display_data"
    }
   ],
   "source": [
    "# TEST PRIVACY\n",
    "exogenous = range(bay_area.epochs + 1)\n",
    "\n",
    "for name, scheme in privacy_schemes.items():    \n",
    "    USGS = semi_honest( bay_area, go_bears, scheme(0.02) )\n",
    "    endogenous = USGS.average_predictive_power()\n",
    "    \n",
    "    plot.plot(exogenous, endogenous, label = name)\n",
    "\n",
    "plot.legend()\n",
    "plot.show()"
   ]
  },
  {
   "cell_type": "code",
   "execution_count": 123,
   "metadata": {},
   "outputs": [
    {
     "name": "stderr",
     "output_type": "stream",
     "text": [
      "/Library/Frameworks/Python.framework/Versions/3.6/lib/python3.6/site-packages/ipykernel_launcher.py:13: RuntimeWarning: invalid value encountered in true_divide\n",
      "  del sys.path[0]\n"
     ]
    },
    {
     "data": {
      "image/png": "[encoded data removed]",
      "text/plain": [
       "<Figure size 432x288 with 1 Axes>"
      ]
     },
     "metadata": {
      "needs_background": "light"
     },
     "output_type": "display_data"
    }
   ],
   "source": [
    "USGS = semi_honest( bay_area, go_bears, geo_insidt)\n",
    "\n",
    "plot.scatter( * zip(* bay_area.spaces), s = USGS.users[0].location_density * 100 )\n",
    "plot.scatter( * zip(* bay_area.spaces), s = USGS.timeseries_inference(0)[-1] * 100 )\n",
    "plot.axis(\"equal\")\n",
    "plot.show()"
   ]
  },
  {
   "cell_type": "code",
   "execution_count": null,
   "metadata": {},
   "outputs": [],
   "source": []
  }
 ],
 "metadata": {
  "kernelspec": {
   "display_name": "Python 3",
   "language": "python",
   "name": "python3"
  },
  "language_info": {
   "codemirror_mode": {
    "name": "ipython",
    "version": 3
   },
   "file_extension": ".py",
   "mimetype": "text/x-python",
   "name": "python",
   "nbconvert_exporter": "python",
   "pygments_lexer": "ipython3",
   "version": "3.6.4"
  }
 },
 "nbformat": 4,
 "nbformat_minor": 2
}
