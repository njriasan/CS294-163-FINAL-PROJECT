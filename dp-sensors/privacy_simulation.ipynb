{
 "cells": [
  {
   "cell_type": "code",
   "execution_count": 14,
   "metadata": {},
   "outputs": [],
   "source": [
    "from matplotlib import pyplot as plot\n",
    "from itertools import product\n",
    "from tqdm import tqdm\n",
    "\n",
    "from scipy.stats import gamma\n",
    "from random import sample\n",
    "import numpy, ray, gc\n",
    "\n",
    "%matplotlib inline"
   ]
  },
  {
   "cell_type": "code",
   "execution_count": 2,
   "metadata": {},
   "outputs": [
    {
     "name": "stderr",
     "output_type": "stream",
     "text": [
      "2019-12-05 23:22:53,791\tWARNING worker.py:1268 -- WARNING: Not updating worker name since `setproctitle` is not installed. Install this with `pip install setproctitle` (or ray[debug]) to enable monitoring of worker processes.\n",
      "2019-12-05 23:22:53,809\tINFO resource_spec.py:205 -- Starting Ray with 0.44 GiB memory available for workers and up to 0.22 GiB for objects. You can adjust these settings with ray.init(memory=<bytes>, object_store_memory=<bytes>).\n"
     ]
    },
    {
     "data": {
      "text/plain": [
       "{'node_ip_address': '192.168.42.2',\n",
       " 'redis_address': '192.168.42.2:31829',\n",
       " 'object_store_address': '/tmp/ray/session_2019-12-05_23-22-53_801159_13488/sockets/plasma_store',\n",
       " 'raylet_socket_name': '/tmp/ray/session_2019-12-05_23-22-53_801159_13488/sockets/raylet',\n",
       " 'webui_url': None,\n",
       " 'session_dir': '/tmp/ray/session_2019-12-05_23-22-53_801159_13488'}"
      ]
     },
     "execution_count": 2,
     "metadata": {},
     "output_type": "execute_result"
    }
   ],
   "source": [
    "ray.init()"
   ]
  },
  {
   "cell_type": "code",
   "execution_count": 3,
   "metadata": {},
   "outputs": [],
   "source": [
    "# Standard differentially-private schemes\n",
    "\n",
    "def gaussian_noise(location, epsilon):\n",
    "    return location + numpy.random.normal(loc = [0, 0], scale = 1 / epsilon )\n",
    "\n",
    "def laplacian_noise(location, epsilon):\n",
    "    return location + numpy.random.laplace(loc = [0, 0], scale = 1 / epsilon )\n",
    "\n",
    "def geo_noise(location, epsilon):\n",
    "    theta, r = numpy.random.uniform(0, 2 * numpy.pi), gamma.ppf( numpy.random.uniform(0, 1), 2, scale = (1 / epsilon) )\n",
    "    x, y = r * numpy.cos(theta), r * numpy.sin(theta)\n",
    "    return location + numpy.array([x, y])\n",
    "\n",
    "# An extension of k-anonymity\n",
    "def cloaking(location, epsilon):\n",
    "    x, y = location\n",
    "    return ( x // 5, y // 5 )"
   ]
  },
  {
   "cell_type": "code",
   "execution_count": 4,
   "metadata": {},
   "outputs": [],
   "source": [
    "privacy_schemes = {\n",
    "    \"Gaussian\": gaussian_noise,\n",
    "    \"Laplacian\": laplacian_noise,\n",
    "    \n",
    "    \"Geo-Indistinguishability\": geo_noise,\n",
    "    \"Cloaking\": cloaking\n",
    "}"
   ]
  },
  {
   "cell_type": "code",
   "execution_count": 5,
   "metadata": {},
   "outputs": [],
   "source": [
    "def distance(location, center):\n",
    "    x, y = location\n",
    "    a, b = center\n",
    "    return numpy.sqrt( (x - a)**2 + (y - b)**2 )\n",
    "\n",
    "# We assume users can be modeled as having some distribution over locations, \n",
    "# which is centered at some \"home\" but is non-deterministic (ie., noisy)\n",
    "\n",
    "class user:\n",
    "    def __init__(self, server):\n",
    "        self.space = server.space\n",
    "        self.location_distr = self.centered_distribution()\n",
    "        self.location_distr = self.location_distr / numpy.sum(self.location_distr)\n",
    "        \n",
    "    def centered_distribution(self):\n",
    "        center  = self.space[ numpy.random.randint(0, len(self.space)) ]\n",
    "        initial = [ numpy.random.uniform(0, 2) / (distance(L, center) + 1) for L in self.space ]\n",
    "        return numpy.round( numpy.array( initial ) / numpy.sum( initial ), decimals = 3 )\n",
    "        \n",
    "    def sample(self, epochs):\n",
    "        index = numpy.random.choice( len(self.space), size = epochs, p = self.location_distr )\n",
    "        return [ self.space[i] for i in index ]"
   ]
  },
  {
   "cell_type": "code",
   "execution_count": 6,
   "metadata": {},
   "outputs": [],
   "source": [
    "class server:\n",
    "    def __init__(self, length = 75, count = 100, epochs = 250):\n",
    "        self.space = product(range(length), repeat = 2 )\n",
    "        self.space = list( map(tuple, self.space) )\n",
    "        \n",
    "        self.users = [ user(self) for i in tqdm(range(count)) ]\n",
    "        self.length, self.epochs = length * length, epochs\n",
    "        \n",
    "        self.samples = [ u.sample(epochs) for u in tqdm(self.users) ]\n",
    "        self.noisy_samples = {}\n",
    "        \n",
    "    def regularize_users(self, repetition):\n",
    "        self.samples = [ s * repetition for s in self.samples ]\n",
    "        \n",
    "    def average_accuracy(self, scheme):\n",
    "        \n",
    "        \n",
    "    def accuracy(self, scheme, center, noisy_center:)\n",
    "        disjoint = lambda x, y: 1 if (x < 10 and y > 10) or (x > 10 and y < 10) else 0\n",
    "        \n",
    "        locations = zip( zip(* self.samples)[epoch], zip(* self.noisy_samples[scheme])[epoch] )\n",
    "        disjuctive = [ disjoint( distance(x, center), distance(y, noisy_center) ) for x, y in locations ]\n",
    "        return sum(disjunctive)\n",
    "        \n",
    "    def introduce_privacy(self, epsilon):\n",
    "        for scheme in privacy_schemes:\n",
    "            noise = privacy_schemes[ scheme ]\n",
    "            \n",
    "            heartbeats = [ self.noisy_user(u, noise, epsilon) for u in tqdm(self.samples) ]            \n",
    "            self.noisy_samples[ scheme ] = heartbeats\n",
    "    \n",
    "    def noisy_user(self, user, noise, epsilon):\n",
    "        return [ tuple(numpy.round( noise(location, epsilon) )) for location in user ]"
   ]
  },
  {
   "cell_type": "code",
   "execution_count": null,
   "metadata": {},
   "outputs": [],
   "source": [
    "class semi_honest(server):\n",
    "    def average_predictive_power(self, scheme):\n",
    "        results = [ self.noisy_estimates(scheme, i) for i in range(len(self.samples)) ]\n",
    "        return numpy.mean( results, axis = 0 )\n",
    "    \n",
    "    def noisy_estimates(self, scheme, user):\n",
    "        user_heartbeats = self.noisy_samples[scheme][user]\n",
    "        estimates = [ numpy.array([ 1 if user_heartbeats[0] == x else 0 for x in self.space ]) ]\n",
    "\n",
    "        for i in range(1, self.epochs):\n",
    "            if user_heartbeats[i] in self.space:\n",
    "                estimates.append( self.update_MLE(estimates[-1], user_heartbeats[i], i) )\n",
    "            else:\n",
    "                estimates.append( estimates[-1] )\n",
    "\n",
    "        true = self.users[user].location_distr\n",
    "        return numpy.fromiter( map( lambda x: self.bhattacharyya(x, true), estimates ), dtype = float )\n",
    "        \n",
    "    def update_MLE(self, distribution, heartbeat, epoch):\n",
    "        index = self.space.index( user_heartbeats[i] )\n",
    "\n",
    "        previous = distribution * epoch\n",
    "        previous[index] = previous[index] + 1\n",
    "        \n",
    "        return previous / sum(previous)\n",
    "        \n",
    "    def bhattacharyya(self, estimate, true):\n",
    "        return numpy.sum(numpy.sqrt(estimate * true))"
   ]
  },
  {
   "cell_type": "code",
   "execution_count": 7,
   "metadata": {},
   "outputs": [],
   "source": [
    "@ray.remote\n",
    "def evaluate(server, scheme):\n",
    "    return server.average_predictive_power(scheme), scheme\n",
    "\n",
    "def compare_schemes(server, save = False):\n",
    "    endogenous = range(server.epochs)\n",
    "    _exogenous = ray.get([ evaluate.remote(server, scheme) for scheme in privacy_schemes ])\n",
    "    \n",
    "    for exogenous, scheme in _exogenous:\n",
    "        plot.plot(endogenous, exogenous, label = scheme)\n",
    "\n",
    "    plot.legend()\n",
    "    plot.savefig(save) if save else plot.show()"
   ]
  },
  {
   "cell_type": "code",
   "execution_count": 11,
   "metadata": {
    "scrolled": true
   },
   "outputs": [
    {
     "name": "stderr",
     "output_type": "stream",
     "text": [
      "100%|██████████| 100/100 [00:14<00:00,  6.81it/s]\n",
      "100%|██████████| 100/100 [00:00<00:00, 1301.10it/s]\n"
     ]
    }
   ],
   "source": [
    "USGS = semi_honest(length = 100, count = 100, epochs = 500)"
   ]
  },
  {
   "cell_type": "code",
   "execution_count": 12,
   "metadata": {
    "scrolled": true
   },
   "outputs": [
    {
     "name": "stderr",
     "output_type": "stream",
     "text": [
      "100%|██████████| 100/100 [00:04<00:00, 23.51it/s]\n",
      "100%|██████████| 100/100 [00:04<00:00, 23.66it/s]\n",
      "100%|██████████| 100/100 [00:27<00:00,  3.58it/s]\n",
      "100%|██████████| 100/100 [00:00<00:00, 139.04it/s]\n"
     ]
    }
   ],
   "source": [
    "USGS.introduce_privacy(0.025)"
   ]
  },
  {
   "cell_type": "code",
   "execution_count": 13,
   "metadata": {
    "scrolled": true
   },
   "outputs": [
    {
     "data": {
      "image/png": "[encoded data removed]",
      "text/plain": [
       "<Figure size 432x288 with 1 Axes>"
      ]
     },
     "metadata": {
      "needs_background": "light"
     },
     "output_type": "display_data"
    }
   ],
   "source": [
    "compare_schemes(USGS)"
   ]
  },
  {
   "cell_type": "code",
   "execution_count": null,
   "metadata": {},
   "outputs": [],
   "source": []
  }
 ],
 "metadata": {
  "kernelspec": {
   "display_name": "Python 3",
   "language": "python",
   "name": "python3"
  },
  "language_info": {
   "codemirror_mode": {
    "name": "ipython",
    "version": 3
   },
   "file_extension": ".py",
   "mimetype": "text/x-python",
   "name": "python",
   "nbconvert_exporter": "python",
   "pygments_lexer": "ipython3",
   "version": "3.6.4"
  }
 },
 "nbformat": 4,
 "nbformat_minor": 2
}
