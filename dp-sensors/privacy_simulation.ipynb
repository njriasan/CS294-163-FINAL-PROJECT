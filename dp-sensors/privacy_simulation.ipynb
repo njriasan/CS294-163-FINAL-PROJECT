{
 "cells": [
  {
   "cell_type": "code",
   "execution_count": null,
   "metadata": {},
   "outputs": [],
   "source": [
    "from matplotlib import pyplot as plot\n",
    "from scipy.stats import gamma\n",
    "from itertools import product\n",
    "from tqdm import tqdm\n",
    "import numpy\n",
    "\n",
    "%matplotlib inline"
   ]
  },
  {
   "cell_type": "code",
   "execution_count": null,
   "metadata": {},
   "outputs": [],
   "source": [
    "# Standard differentially-private schemes\n",
    "\n",
    "def gaussian_noise(location, epsilon):\n",
    "    return location + numpy.random.normal(loc = [0, 0], scale = 1 / epsilon )\n",
    "\n",
    "def laplacian_noise(location, epsilon):\n",
    "    return location + numpy.random.laplace(loc = [0, 0], scale = 1 / epsilon )\n",
    "\n",
    "def geo_noise(location, epsilon):\n",
    "    theta, r = numpy.random.uniform(0, 2 * numpy.pi), gamma.ppf( numpy.random.uniform(0, 1), 2, scale = (1 / epsilon) )\n",
    "    x, y = r * numpy.cos(theta), r * numpy.sin(theta)\n",
    "    return location + numpy.array([x, y])\n",
    "\n",
    "# An extension of k-anonymity\n",
    "def cloaking(location, epsilon):\n",
    "    x, y = location\n",
    "    return ( x // 5, y // 5 )"
   ]
  },
  {
   "cell_type": "code",
   "execution_count": null,
   "metadata": {},
   "outputs": [],
   "source": [
    "privacy = {\n",
    "    \"Gaussian\": gaussian_noise,\n",
    "    \"Laplacian\": laplacian_noise,\n",
    "    \"Geo-Indistinguishability\": geo_noise,\n",
    "    \"Cloaking\": cloaking\n",
    "}"
   ]
  },
  {
   "cell_type": "code",
   "execution_count": null,
   "metadata": {},
   "outputs": [],
   "source": [
    "def distance(location, center):\n",
    "    x, y = location\n",
    "    a, b = center\n",
    "    return numpy.sqrt( (x - a)**2 + (y - b)**2 )\n",
    "\n",
    "# We assume users can be modeled as having some distribution over locations, \n",
    "# which is centered at some \"home\" but is non-deterministic (ie., noisy)\n",
    "\n",
    "class user:\n",
    "    def __init__(self, server):\n",
    "        self.server = server\n",
    "        self.location_distr = self.centered_distribution()\n",
    "        self.location_distr = self.location_distr / numpy.sum(self.location_distr)\n",
    "        \n",
    "    def centered_distribution(self):\n",
    "        center  = self.server.space[ numpy.random.randint(0, len(self.server.space)) ]\n",
    "        initial = [ numpy.random.uniform(0, 2) / (distance(L, center) + 1) for L in self.server.space ]\n",
    "        return numpy.round( numpy.array( initial ) / numpy.sum( initial ), decimals = 2 )\n",
    "        \n",
    "    def sample(self, epochs):\n",
    "        index = numpy.random.choice( len(self.server.space), size = epochs, p = self.location_distr )\n",
    "        return [ self.server.space[i] for i in index ]"
   ]
  },
  {
   "cell_type": "code",
   "execution_count": null,
   "metadata": {},
   "outputs": [],
   "source": [
    "# A visual of a user's distribution\n",
    "numpy.random.seed(0)\n",
    "\n",
    "u = server(length = 25, count = 1, epochs = 500)\n",
    "plot.scatter(* zip(* u.space), s = u.users[0].location_distr * 100, c = \"black\")\n",
    "plot.show()"
   ]
  },
  {
   "cell_type": "code",
   "execution_count": null,
   "metadata": {},
   "outputs": [],
   "source": [
    "# The semi-honest server coordinates between users, has knowledge of the entire space,\n",
    "# and can make predications to a user's distribution given a number of samples\n",
    "\n",
    "class server:\n",
    "    def __init__(self, length = 75, count = 1000, epochs = 250):\n",
    "        self.space = product(range(length), repeat = 2 )\n",
    "        self.space = list( map(tuple, self.space) )\n",
    "        \n",
    "        self.users = [ user(self) for i in range(count) ]\n",
    "        self.samples = [ u.sample(epochs) for u in self.users ]\n",
    "\n",
    "    def clean(self, location):\n",
    "        return tuple(numpy.round(location))\n",
    "\n",
    "    def noisy_samples(self, noise, epsilon):\n",
    "        return [ [ self.clean(noise(s, epsilon)) for s in samples ] for samples in self.samples ]\n",
    "    \n",
    "    def noisy_estimate(self, samples, epoch, discretized = False):\n",
    "        if not discretized:\n",
    "            best_estimate = [ samples[: epoch].count(s) for s in self.space ]\n",
    "        else:\n",
    "            best_estimate = [ samples[: epoch].count((x // 5, y // 5)) for x, y in self.space ]\n",
    "            \n",
    "        best_estimate = numpy.array(best_estimate) / sum(best_estimate)    \n",
    "        return best_estimate\n",
    "    \n",
    "    def bhattacharyya(self, estimate, true):\n",
    "        return numpy.sum(numpy.sqrt(estimate * true))\n",
    "    \n",
    "    def average_similarity(self, samples, epoch):\n",
    "        estimates = [ self.noisy_estimate(sample, epoch) for sample in samples ]\n",
    "        true_vals = [ user.location_distr for user in self.users ]\n",
    "        \n",
    "        similarities = [ self.bhattacharyya(e, t) for e, t in zip(estimates, true_vals) ]\n",
    "        return numpy.mean(similarities)\n",
    "    \n",
    "    def epoch_plot(self, noise, epsilon, name = \"\"):\n",
    "        noisy_sampling = self.noisy_samples(noise, epsilon)\n",
    "        \n",
    "        epoch_count  = numpy.arange(1, len(self.samples[0]))\n",
    "        similarities = [ self.average_similarity(noisy_sampling, x) for x in epoch_count ]\n",
    "        \n",
    "        plot.plot(epoch_count, similarities, label = name)\n",
    "        \n",
    "    def compare_noises(self, epsilon):\n",
    "        for noise in privacy:\n",
    "            self.epoch_plot( privacy[noise], epsilon, noise )\n",
    "\n",
    "        plot.legend()\n",
    "        plot.show()"
   ]
  },
  {
   "cell_type": "code",
   "execution_count": null,
   "metadata": {},
   "outputs": [],
   "source": [
    "USGS = server(length = 25, count = 100, epochs = 500)"
   ]
  },
  {
   "cell_type": "code",
   "execution_count": null,
   "metadata": {
    "scrolled": true
   },
   "outputs": [],
   "source": [
    "USGS.compare_noises(0.02)"
   ]
  }
 ],
 "metadata": {
  "kernelspec": {
   "display_name": "Python 3",
   "language": "python",
   "name": "python3"
  },
  "language_info": {
   "codemirror_mode": {
    "name": "ipython",
    "version": 3
   },
   "file_extension": ".py",
   "mimetype": "text/x-python",
   "name": "python",
   "nbconvert_exporter": "python",
   "pygments_lexer": "ipython3",
   "version": "3.6.4"
  }
 },
 "nbformat": 4,
 "nbformat_minor": 2
}
